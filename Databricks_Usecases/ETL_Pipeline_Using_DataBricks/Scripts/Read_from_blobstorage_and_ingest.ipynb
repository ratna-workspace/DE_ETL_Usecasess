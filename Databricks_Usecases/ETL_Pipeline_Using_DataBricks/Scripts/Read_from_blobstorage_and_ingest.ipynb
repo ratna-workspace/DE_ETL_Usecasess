{
 "cells": [
  {
   "cell_type": "code",
   "execution_count": 0,
   "metadata": {
    "application/vnd.databricks.v1+cell": {
     "cellMetadata": {},
     "inputWidgets": {},
     "nuid": "d75c4351-1d97-4851-864a-a1ff8df485b9",
     "showTitle": false,
     "title": ""
    }
   },
   "outputs": [],
   "source": [
    "#SparkSession\n",
    "from pyspark.sql import SparkSession\n",
    "from pyspark.sql.functions import current_timestamp\n",
    "spark = SparkSession.builder.appName(\"UseCase\").getOrCreate()\n"
   ]
  },
  {
   "cell_type": "code",
   "execution_count": 0,
   "metadata": {
    "application/vnd.databricks.v1+cell": {
     "cellMetadata": {},
     "inputWidgets": {},
     "nuid": "a0dbfbd7-6c70-4fd6-97cd-25164c5534b1",
     "showTitle": false,
     "title": ""
    }
   },
   "outputs": [],
   "source": [
    "\n",
    "def make_connection(storage_account_name,storage_account_access_key):\n",
    "    try:\n",
    "        spark.conf.set(\n",
    "        \"fs.azure.account.key.\"+storage_account_name+\".blob.core.windows.net\",\n",
    "        storage_account_access_key)\n",
    "        return True\n",
    "    except Exception as e:\n",
    "        raise Exception(\"Not able to make connection with storage account\")\n",
    "        return False\n"
   ]
  },
  {
   "cell_type": "code",
   "execution_count": 0,
   "metadata": {
    "application/vnd.databricks.v1+cell": {
     "cellMetadata": {},
     "inputWidgets": {},
     "nuid": "e62555cf-743b-49ac-a07e-70cf918a9bb7",
     "showTitle": false,
     "title": ""
    }
   },
   "outputs": [],
   "source": [
    "def read_file(file_location):\n",
    "    df = spark.read.format(\"json\").option(\"inferSchema\", \"true\").load(file_location)\n",
    "    return df\n",
    "    "
   ]
  },
  {
   "cell_type": "code",
   "execution_count": 0,
   "metadata": {
    "application/vnd.databricks.v1+cell": {
     "cellMetadata": {},
     "inputWidgets": {},
     "nuid": "f9022b40-4e61-4bcb-ae03-837905c00837",
     "showTitle": false,
     "title": ""
    }
   },
   "outputs": [],
   "source": [
    "def add_cols(df):\n",
    "    df1=df.withColumn(\"timestamp\",current_timestamp())\n",
    "    return df1\n"
   ]
  },
  {
   "cell_type": "code",
   "execution_count": 0,
   "metadata": {
    "application/vnd.databricks.v1+cell": {
     "cellMetadata": {},
     "inputWidgets": {},
     "nuid": "05f5b73f-03ab-413d-bab7-1dc58d0f5ad4",
     "showTitle": false,
     "title": ""
    }
   },
   "outputs": [],
   "source": [
    "\n",
    "storage_account_access_key = dbutils.secrets.get('usecaseScope','storage_account_access_key')\n",
    "storage_account_name = dbutils.secrets.get('usecaseScope','storage_account_name')\n",
    "container_name =  dbutils.secrets.get('usecaseScope','container_name')\n",
    "#file_location = \"wasbs://\"+container_name+\"@\"+storage_account_name+\".blob.core.windows.net/json_data/movies.json\"\n",
    "fn=dbutils.widgets.get(\"file_name\")\n",
    "file_location = \"wasbs://\"+container_name+\"@\"+storage_account_name+\".blob.core.windows.net/json_data/\"+fn\n",
    "\n",
    "##Call the defined functions\n",
    "try:\n",
    "    connection=make_connection(storage_account_name,storage_account_access_key)\n",
    "    print(f\"connection , {connection}\")\n",
    "    df=read_file(file_location)\n",
    "    df1=add_cols(df)\n",
    "    #df1.show(5)\n",
    "\n",
    "    ##Write df into delta table i.e ingest_table\n",
    "    df1.write.partitionBy(\"timestamp\")\\\n",
    "                .mode(\"append\")\\\n",
    "                .format(\"delta\")\\\n",
    "                .option(\"overwriteSchema\", \"true\")\\\n",
    "                .save(\"/delta/ingest_table\")\n",
    "    print(True)\n",
    "\n",
    "except Exception as e:\n",
    "    raise Exception(e)\n"
   ]
  }
 ],
 "metadata": {
  "application/vnd.databricks.v1+notebook": {
   "dashboards": [],
   "language": "python",
   "notebookMetadata": {
    "pythonIndentUnit": 4
   },
   "notebookName": "Read_from_blobstorage_and_ingest",
   "widgets": {}
  }
 },
 "nbformat": 4,
 "nbformat_minor": 0
}
