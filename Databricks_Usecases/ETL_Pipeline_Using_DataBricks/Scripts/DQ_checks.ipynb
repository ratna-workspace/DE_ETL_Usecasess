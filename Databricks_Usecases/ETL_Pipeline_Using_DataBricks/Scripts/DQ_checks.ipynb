{
 "cells": [
  {
   "cell_type": "code",
   "execution_count": 0,
   "metadata": {
    "application/vnd.databricks.v1+cell": {
     "cellMetadata": {},
     "inputWidgets": {},
     "nuid": "54df6ffd-ed7a-4cc1-ad44-251c69511e45",
     "showTitle": false,
     "title": ""
    }
   },
   "outputs": [],
   "source": [
    "#SparkSession\n",
    "from pyspark.sql import SparkSession\n",
    "spark = SparkSession.builder.appName(\"UseCase\").getOrCreate()\n"
   ]
  },
  {
   "cell_type": "code",
   "execution_count": 0,
   "metadata": {
    "application/vnd.databricks.v1+cell": {
     "cellMetadata": {},
     "inputWidgets": {},
     "nuid": "8b48fb19-cb1c-4905-b8ee-165ae9db828b",
     "showTitle": false,
     "title": ""
    }
   },
   "outputs": [],
   "source": [
    "def get_latest_data(table_name,timestamp_col):\n",
    "    latest_df = spark.sql(f\"SELECT * FROM delta.`{table_name}` WHERE {timestamp_col} = (SELECT MAX({timestamp_col}) FROM delta.`{table_name}`)\")\n",
    "    return latest_df\n",
    "    "
   ]
  },
  {
   "cell_type": "code",
   "execution_count": 0,
   "metadata": {
    "application/vnd.databricks.v1+cell": {
     "cellMetadata": {},
     "inputWidgets": {},
     "nuid": "51751a84-4f25-47d6-b618-3e685b7d5dd3",
     "showTitle": false,
     "title": ""
    }
   },
   "outputs": [],
   "source": [
    "def dq_checks(df):\n",
    "    df1=df.dropDuplicates()\n",
    "    df2=df1.dropna(subset=\"name\")\n",
    "    return df2\n"
   ]
  },
  {
   "cell_type": "code",
   "execution_count": 0,
   "metadata": {
    "application/vnd.databricks.v1+cell": {
     "cellMetadata": {},
     "inputWidgets": {},
     "nuid": "72074702-3e02-4971-b73a-55875ee0e5df",
     "showTitle": false,
     "title": ""
    }
   },
   "outputs": [],
   "source": [
    "table_name=\"/delta/ingest_table\"\n",
    "timestamp_col=\"timestamp\"\n",
    "\n",
    "try:\n",
    "    df=get_latest_data(table_name,timestamp_col)\n",
    "    dq_df=dq_checks(df)\n",
    "    #dq_df.printSchema()\n",
    "\n",
    "    ##Write data into dq_table\n",
    "    dq_df.write.partitionBy(\"timestamp\")\\\n",
    "                .mode(\"append\")\\\n",
    "                .format(\"delta\")\\\n",
    "                .option(\"overwriteSchema\", \"true\")\\\n",
    "                .save(\"/delta/dq_table\")\n",
    "except Exception as e:\n",
    "    raise Exception(e)\n"
   ]
  }
 ],
 "metadata": {
  "application/vnd.databricks.v1+notebook": {
   "dashboards": [],
   "language": "python",
   "notebookMetadata": {
    "pythonIndentUnit": 4
   },
   "notebookName": "DQ_checks",
   "widgets": {}
  }
 },
 "nbformat": 4,
 "nbformat_minor": 0
}
