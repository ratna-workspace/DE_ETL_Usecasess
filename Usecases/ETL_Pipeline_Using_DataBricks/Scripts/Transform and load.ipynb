{
 "cells": [
  {
   "cell_type": "code",
   "execution_count": 0,
   "metadata": {
    "application/vnd.databricks.v1+cell": {
     "cellMetadata": {},
     "inputWidgets": {},
     "nuid": "181cb5c0-6d0b-44fd-b056-67bd48765dcd",
     "showTitle": false,
     "title": ""
    }
   },
   "outputs": [],
   "source": [
    "#SparkSession\n",
    "from pyspark.sql import SparkSession\n",
    "from pyspark.sql.functions import split\n",
    "from pyspark.sql.types import DateType,TimestampType\n",
    "spark = SparkSession.builder.appName(\"UseCase\").getOrCreate()"
   ]
  },
  {
   "cell_type": "code",
   "execution_count": 0,
   "metadata": {
    "application/vnd.databricks.v1+cell": {
     "cellMetadata": {},
     "inputWidgets": {},
     "nuid": "b720f2d7-717a-46c6-9cc4-986ae5d0fb3f",
     "showTitle": false,
     "title": ""
    }
   },
   "outputs": [],
   "source": [
    "\n",
    "def get_latest_data(table_name,timestamp_col):\n",
    "    l_df = spark.sql(f\"SELECT * FROM delta.`{table_name}` WHERE {timestamp_col} = (SELECT MAX({timestamp_col}) FROM delta.`{table_name}`)\")\n",
    "    return l_df\n",
    "    #latest_df.printSchema()"
   ]
  },
  {
   "cell_type": "code",
   "execution_count": 0,
   "metadata": {
    "application/vnd.databricks.v1+cell": {
     "cellMetadata": {},
     "inputWidgets": {},
     "nuid": "ed4f3b11-c2f6-4f06-880e-0968f1a473fc",
     "showTitle": false,
     "title": ""
    }
   },
   "outputs": [],
   "source": [
    "def apply_transformations(l_df):\n",
    "    latest_df = l_df.withColumn('imdb_rating', split(l_df['imdb_rating'], '/').getItem(0)) \n",
    "\n",
    "    df=latest_df.withColumn(\"timestamp\", latest_df[\"timestamp\"].cast(TimestampType())).withColumn(\"imdb_rating\",latest_df[\"imdb_rating\"].cast(\"float\")).withColumn(\"released_at\", latest_df[\"released_at\"].cast(DateType()))\n",
    "\n",
    "    final_df=df.select(df.name.alias(\"movie_name\"),df.genre,df.imdb_rating,df.released_at.alias(\"release_date\"),df.streaming_on,df.timestamp)\n",
    "\n",
    "    #final_df.show()\n",
    "    return final_df"
   ]
  },
  {
   "cell_type": "code",
   "execution_count": 0,
   "metadata": {
    "application/vnd.databricks.v1+cell": {
     "cellMetadata": {},
     "inputWidgets": {},
     "nuid": "b37e3683-e4fa-4386-98a2-0f7bcece1572",
     "showTitle": false,
     "title": ""
    }
   },
   "outputs": [],
   "source": [
    "\n",
    "def write_to_postgres(final_df,database_url,postgres_table,properties):\n",
    "    try:\n",
    "        final_df.write.jdbc(url=database_url, table=postgres_table, mode=\"append\", properties=properties)\n",
    "        return True\n",
    "    except Exception as e:\n",
    "        return False"
   ]
  },
  {
   "cell_type": "code",
   "execution_count": 0,
   "metadata": {
    "application/vnd.databricks.v1+cell": {
     "cellMetadata": {},
     "inputWidgets": {},
     "nuid": "f0d4ee79-711f-4a3b-9fb6-fe3a41270f6f",
     "showTitle": false,
     "title": ""
    }
   },
   "outputs": [],
   "source": [
    "table_name=\"/delta/dq_table\"\n",
    "timestamp_col=\"timestamp\"\n",
    "\n",
    "database_url = dbutils.secrets.get('usecaseScope','database_url')\n",
    "postgres_table = dbutils.secrets.get('usecaseScope','postgres_table')\n",
    "properties = {\n",
    "    \"user\": dbutils.secrets.get('usecaseScope','user'),\n",
    "    \"password\": dbutils.secrets.get('usecaseScope','password'),\n",
    "    \"driver\": \"org.postgresql.Driver\"\n",
    "}\n",
    "try:\n",
    "    l_df=get_latest_data(table_name,timestamp_col)\n",
    "    final_df=apply_transformations(l_df)\n",
    "    load=write_to_postgres(final_df,database_url,postgres_table,properties)\n",
    "    print(load)\n",
    "\n",
    "except Exception as e:\n",
    "    raise Exception(e)\n"
   ]
  }
 ],
 "metadata": {
  "application/vnd.databricks.v1+notebook": {
   "dashboards": [],
   "language": "python",
   "notebookMetadata": {
    "pythonIndentUnit": 4
   },
   "notebookName": "Transform and load",
   "widgets": {}
  }
 },
 "nbformat": 4,
 "nbformat_minor": 0
}
